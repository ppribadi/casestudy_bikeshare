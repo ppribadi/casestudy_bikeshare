{
 "cells": [
  {
   "cell_type": "markdown",
   "id": "63144278-9e9a-42e8-9057-6272126c2162",
   "metadata": {},
   "source": [
    "# STAGE 3c: PROCESS - Merge Cleaned Data to One Big CSV\n"
   ]
  },
  {
   "cell_type": "markdown",
   "id": "fe967c88-e576-4f59-8bed-7f7017779493",
   "metadata": {},
   "source": [
    "## Getting Ready to Ingest the csv files and merge them to a big Dataframe"
   ]
  },
  {
   "cell_type": "code",
   "execution_count": 3,
   "id": "6e65940d-14c4-4d59-8fc9-6d2c34ff742f",
   "metadata": {
    "tags": []
   },
   "outputs": [],
   "source": [
    "import pandas as pd\n",
    "from pandas.api.types import CategoricalDtype\n",
    "\n",
    "## Prepare categorical data types\n",
    "\n",
    "station_ids = pd.read_csv('./Data/ref_lists/master_station_id_list.csv', index_col=0 , names= ['station_id'])\n",
    "station_names = pd.read_csv('./Data/ref_lists/master_station_name_list.csv', index_col=0 , names= ['station_name'])\n",
    "rideable_types = pd.read_csv('./Data/ref_lists/master_rideable_type_list.csv', index_col=0, names = ['rideable_type'])\n",
    "member_types = pd.read_csv('./Data/ref_lists/master_member_casual_list.csv', index_col=0, names =['member_type'])\n",
    "\n",
    "cat_station_id_types = CategoricalDtype(categories=station_ids['station_id'])\n",
    "cat_station_name_types = CategoricalDtype(categories=station_names['station_name'])\n",
    "cat_rideable_types = CategoricalDtype(categories=rideable_types['rideable_type'])\n",
    "cat_member_types = CategoricalDtype(categories=member_types['member_type'])\n",
    "\n",
    "## Prepare table schema, \n",
    "## usecols: to select the columns to be imported \n",
    "## dtypes: define column and datatype mapping\n",
    "## parsed_dates for started_at and ened_at\n",
    "\n",
    "dtypes = {'ride_id': 'str', 'rideable_type': cat_rideable_types,  'start_station_id': cat_station_id_types, 'start_station_name': cat_station_name_types, \n",
    "            'end_station_id': cat_station_id_types,'end_station_name': cat_station_name_types, 'member_casual':cat_member_types}\n",
    "usecols = ['ride_id', 'rideable_type',  'start_station_id', 'start_station_name',\n",
    "            'end_station_id', 'end_station_name','member_casual','started_at','ended_at','start_lat','start_lng','end_lat','end_lng']\n",
    "\n",
    "# this is a function to read the trip files,\n",
    "def read_csv_to_df(filename, dtype, usecols):\n",
    "    df = pd.read_csv('./Data/cleaned_csv/'+filename, parse_dates=['started_at','ended_at'], dtype = dtype, usecols=usecols)\n",
    "    print (filename,df.memory_usage(deep=True).sum()/1e+6, \" Mbytes\")\n",
    "    return df\n",
    "\n",
    "## import the file name list generated from Prepare stage\n",
    "## file_list: list of trip data files from april 2020 to sep 2022\n",
    "\n",
    "file_list_df = pd.read_csv('file_list_2020.csv', header=None, names= ['filename'])\n",
    "file_list = file_list_df['filename'].values"
   ]
  },
  {
   "cell_type": "markdown",
   "id": "3f25e907-fd97-4dff-9fce-2b68813f00b7",
   "metadata": {},
   "source": [
    "## This is where we merge all the relevant csv files into one big dataframe"
   ]
  },
  {
   "cell_type": "code",
   "execution_count": 4,
   "id": "c62b1984-89e2-45b9-a1a3-d747e4b8340b",
   "metadata": {},
   "outputs": [
    {
     "name": "stdout",
     "output_type": "stream",
     "text": [
      "0\n",
      "202004-divvy-tripdata.csv 11.632501  Mbytes\n",
      "1\n",
      "202005-divvy-tripdata.csv 26.567287  Mbytes\n",
      "2\n",
      "202006-divvy-tripdata.csv 45.082303  Mbytes\n",
      "3\n",
      "202007-divvy-tripdata.csv 71.798705  Mbytes\n",
      "4\n",
      "202008-divvy-tripdata.csv 76.877313  Mbytes\n",
      "5\n",
      "202009-divvy-tripdata.csv 63.743122  Mbytes\n",
      "6\n",
      "202010-divvy-tripdata.csv 43.52825  Mbytes\n",
      "7\n",
      "202011-divvy-tripdata.csv 28.716342  Mbytes\n",
      "8\n",
      "202012-divvy-tripdata.csv 14.700259  Mbytes\n",
      "9\n",
      "202101-divvy-tripdata.csv 10.885932  Mbytes\n",
      "10\n",
      "202102-divvy-tripdata.csv 5.838502  Mbytes\n",
      "11\n",
      "202103-divvy-tripdata.csv 26.098962  Mbytes\n",
      "12\n",
      "202104-divvy-tripdata.csv 37.96599  Mbytes\n",
      "13\n",
      "202105-divvy-tripdata.csv 58.069643  Mbytes\n",
      "14\n",
      "202106-divvy-tripdata.csv 78.234735  Mbytes\n",
      "15\n",
      "202107-divvy-tripdata.csv 88.855429  Mbytes\n",
      "16\n",
      "202108-divvy-tripdata.csv 86.885713  Mbytes\n",
      "17\n",
      "202109-divvy-tripdata.csv 79.749357  Mbytes\n",
      "18\n",
      "202110-divvy-tripdata.csv 61.230149  Mbytes\n",
      "19\n",
      "202111-divvy-tripdata.csv 32.718523  Mbytes\n",
      "20\n",
      "202112-divvy-tripdata.csv 22.421137  Mbytes\n",
      "21\n",
      "202201-divvy-tripdata.csv 9.986355  Mbytes\n",
      "22\n",
      "202202-divvy-tripdata.csv 11.09396  Mbytes\n",
      "23\n",
      "202203-divvy-tripdata.csv 26.039619  Mbytes\n",
      "24\n",
      "202204-divvy-tripdata.csv 32.781665  Mbytes\n",
      "25\n",
      "202205-divvy-tripdata.csv 60.430132  Mbytes\n",
      "26\n",
      "202206-divvy-tripdata.csv 75.216757  Mbytes\n",
      "27\n",
      "202207-divvy-tripdata.csv 79.011696  Mbytes\n",
      "28\n",
      "202208-divvy-tripdata.csv 74.613502  Mbytes\n",
      "1403.364732 M\n"
     ]
    }
   ],
   "source": [
    "# Big merged data frame\n",
    "\n",
    "dfbig = pd.DataFrame()\n",
    "\n",
    "\n",
    "i = 0\n",
    "for i in range(len(file_list)):\n",
    "    print (i)\n",
    "    filename = file_list[i]\n",
    "    file_month = filename[0:6]\n",
    "    df_file = read_csv_to_df(filename, dtypes, usecols)\n",
    "   \n",
    "    dfbig = pd.concat([dfbig, df_file], axis=0)\n",
    "    i +=1\n",
    "print (dfbig.memory_usage(deep=True).sum()/1e+6, 'M')\n"
   ]
  },
  {
   "cell_type": "code",
   "execution_count": 5,
   "id": "6d2ceab3-0897-474c-81fc-e926f56b284d",
   "metadata": {},
   "outputs": [
    {
     "data": {
      "text/plain": [
       "ride_id                       object\n",
       "rideable_type               category\n",
       "started_at            datetime64[ns]\n",
       "ended_at              datetime64[ns]\n",
       "start_station_name          category\n",
       "start_station_id            category\n",
       "end_station_name            category\n",
       "end_station_id              category\n",
       "start_lat                    float64\n",
       "start_lng                    float64\n",
       "end_lat                      float64\n",
       "end_lng                      float64\n",
       "member_casual               category\n",
       "dtype: object"
      ]
     },
     "execution_count": 5,
     "metadata": {},
     "output_type": "execute_result"
    }
   ],
   "source": [
    "dfbig.dtypes"
   ]
  },
  {
   "cell_type": "code",
   "execution_count": 6,
   "id": "dea8928c-3779-49e7-a6d2-25fee91d25ef",
   "metadata": {},
   "outputs": [],
   "source": [
    "dfbig.to_csv('dfbig.csv')"
   ]
  },
  {
   "cell_type": "code",
   "execution_count": null,
   "id": "884a2484-fd75-417c-8a4a-0e9f27f601d5",
   "metadata": {},
   "outputs": [],
   "source": []
  }
 ],
 "metadata": {
  "kernelspec": {
   "display_name": "cyclistic_kernel",
   "language": "python",
   "name": "cyclistic_kernel"
  },
  "language_info": {
   "codemirror_mode": {
    "name": "ipython",
    "version": 3
   },
   "file_extension": ".py",
   "mimetype": "text/x-python",
   "name": "python",
   "nbconvert_exporter": "python",
   "pygments_lexer": "ipython3",
   "version": "3.9.13"
  }
 },
 "nbformat": 4,
 "nbformat_minor": 5
}
