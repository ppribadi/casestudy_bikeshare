{
 "cells": [
  {
   "cell_type": "markdown",
   "id": "ec6f597e-ecb0-47b8-b77d-f91864d73899",
   "metadata": {},
   "source": [
    "# Cyclistic Trip Case Study\n",
    "##  Capstone Project for completion of Google Data Analytic Professional Certificate"
   ]
  },
  {
   "cell_type": "markdown",
   "id": "0d4c49b6-f873-4d97-b8f7-8b2ffab32e82",
   "metadata": {},
   "source": [
    "## The scope \n",
    "[link](https://www.coursera.org/learn/google-data-analytics-capstone/supplement/NNGNj/intro-to-building-your-portfolio)\n",
    "- Going through the Ask, Prepare, Process, Analyze, and Share phases of the data analysis process\n",
    "- Stating a business task clearly\n",
    "- Importing data from a real dataset\n",
    "- Documenting any data cleaning that you perform on the dataset\n",
    "- Analyzing the data \n",
    "- Creating data visualizations from your analysis\n",
    "- Summarizing key findings from your analysis\n",
    "- Documenting your conclusions and recommendations\n",
    "- Creating and publishing your case study \n"
   ]
  },
  {
   "cell_type": "markdown",
   "id": "952bbc5d-6661-4014-a12a-a06f61d1b545",
   "metadata": {},
   "source": [
    "## Two Tracks \n",
    "[link](https://www.coursera.org/learn/google-data-analytics-capstone/supplement/NTV8r/next-steps-choosing-your-track)\n",
    "\n",
    "---\n",
    "1. Track 1: working with existing questions and datasets\n",
    "    - [Case 1: Bike-sharing service memberships](https://www.coursera.org/learn/google-data-analytics-capstone/supplement/7PGIT/case-study-1-how-does-a-bike-share-navigate-speedy-success) \n",
    "        - Case_Study1.pdf\n",
    "    - [Case 2: Streaming service subscriptions ](https://www.coursera.org/learn/google-data-analytics-capstone/supplement/ZsmDD/case-study-2-how-do-media-companies-find-the-next-binge-worthy-show) \n",
    "        - Case_Study2.pdf\n",
    "2. Track 2: choosing your own questions and dataset\n",
    "    - [Case 3: Choose your own adventure](https://www.coursera.org/learn/google-data-analytics-capstone/supplement/vcS93/case-3-packet-choose-your-own-adventure)\n",
    "        - Case_Study3.pdf\n",
    "---   "
   ]
  },
  {
   "cell_type": "markdown",
   "id": "de69a30f-f526-461d-8098-296c2dbeb5ec",
   "metadata": {},
   "source": [
    "## Road Map\n",
    "[link](https://www.coursera.org/learn/google-data-analytics-capstone/ungradedWidget/8j3Hf/capstone-roadmap)\n",
    "\n",
    "This roadmap provides a guide for six stage of the analysis process. Each stage was studied in one of the seven Coursera courses for this certification. The followings give outline of practical steps to execute the project by stages.\n",
    "\n",
    "<img src='stages.png' style='width:300px'>\n"
   ]
  },
  {
   "cell_type": "markdown",
   "id": "0aa84d0b-d47d-4555-a6c8-445795d621ed",
   "metadata": {},
   "source": [
    "## Delivery"
   ]
  },
  {
   "cell_type": "markdown",
   "id": "d2153d8b-3223-4a0f-951b-22c965c90d19",
   "metadata": {},
   "source": [
    "- The Jupyter Notebooks will follow the road map and deliver the analytic in a final ppt presentation."
   ]
  },
  {
   "cell_type": "code",
   "execution_count": null,
   "id": "498eea0d-b369-4903-93bc-0587d045ba62",
   "metadata": {},
   "outputs": [],
   "source": []
  }
 ],
 "metadata": {
  "kernelspec": {
   "display_name": "cyclistic_kernel",
   "language": "python",
   "name": "cyclistic_kernel"
  },
  "language_info": {
   "codemirror_mode": {
    "name": "ipython",
    "version": 3
   },
   "file_extension": ".py",
   "mimetype": "text/x-python",
   "name": "python",
   "nbconvert_exporter": "python",
   "pygments_lexer": "ipython3",
   "version": "3.9.13"
  }
 },
 "nbformat": 4,
 "nbformat_minor": 5
}
