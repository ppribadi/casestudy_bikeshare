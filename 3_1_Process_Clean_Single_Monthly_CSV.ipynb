{
 "cells": [
  {
   "cell_type": "markdown",
   "id": "63144278-9e9a-42e8-9057-6272126c2162",
   "metadata": {},
   "source": [
    "# STAGE 3a: PROCESS - Clean Monthly CSV File"
   ]
  },
  {
   "cell_type": "markdown",
   "id": "a5c5073a-2aef-4fcc-a5bd-a80f777b6d91",
   "metadata": {},
   "source": [
    "## This notebook is to document the cleaning steps for each monthly trip data csv file\n",
    " 1. drop rows with null data\n",
    " 2. drop rows with trip start time greater than trip stop time\n",
    " 3. drop rows with station ids associated with lat/lng abnomaly\n",
    " 4. drop rows with station names with \"Temp\" indicating test trips\n",
    " 5. drop rows with durations abnomaly (one trip was almost one month)\n",
    "\n",
    "- Each csv file is run independently from the others. The cleaned csv files are saved in a separate folder /Data/cleaned_csv for later use.\n",
    "- A variable <font color=\"red\">rows_to_delete </font> is used to keep track of rows deleted from the original csv. The list of deleted rows are saved in /Data/deleted_rows"
   ]
  },
  {
   "cell_type": "code",
   "execution_count": 1,
   "id": "6c0a0dbb-f66c-4285-bb2f-a9a52ab510bb",
   "metadata": {},
   "outputs": [],
   "source": [
    "import pandas as pd"
   ]
  },
  {
   "cell_type": "code",
   "execution_count": 2,
   "id": "b8e7c46f-96a3-4593-a807-d257a166d650",
   "metadata": {},
   "outputs": [],
   "source": [
    "file_list_df = pd.read_csv('file_list_2020.csv', header=None, names= ['filename'])\n",
    "file_list = file_list_df['filename'].values"
   ]
  },
  {
   "cell_type": "code",
   "execution_count": 3,
   "id": "e6d1ed19-23b4-4c2f-9567-0acb4cc1d165",
   "metadata": {},
   "outputs": [],
   "source": [
    "dtypes = {'ride_id': 'str', 'rideable_type': 'category', 'start_station_name': 'category', 'start_station_id': 'category', 'end_station_name':'category',\n",
    "           'end_station_id': 'category', 'member_casual':'category'}"
   ]
  },
  {
   "cell_type": "code",
   "execution_count": 4,
   "id": "e1093d4d-2268-45bc-8f8c-46bc66b0630d",
   "metadata": {},
   "outputs": [],
   "source": [
    "# this is a function to read the trip files, keep in mind I hard coded the dates columns\n",
    "def read_csv_to_df(filename, dtype):\n",
    "    df = pd.read_csv('./Data/csv/'+filename, parse_dates=['started_at','ended_at'], dtype = dtype)\n",
    "\n",
    "    return df"
   ]
  },
  {
   "cell_type": "code",
   "execution_count": 5,
   "id": "cd2eaa50-8774-4532-9a15-c2094c55e4db",
   "metadata": {},
   "outputs": [],
   "source": [
    "# this file is a random choice\n",
    "filename = file_list[2]\n",
    "df = read_csv_to_df(filename, dtypes)"
   ]
  },
  {
   "cell_type": "code",
   "execution_count": 6,
   "id": "e0b7ce1d-9a8a-4724-bc94-ab0766df31e2",
   "metadata": {},
   "outputs": [
    {
     "data": {
      "text/plain": [
       "Index(['ride_id', 'rideable_type', 'started_at', 'ended_at',\n",
       "       'start_station_name', 'start_station_id', 'end_station_name',\n",
       "       'end_station_id', 'start_lat', 'start_lng', 'end_lat', 'end_lng',\n",
       "       'member_casual'],\n",
       "      dtype='object')"
      ]
     },
     "execution_count": 6,
     "metadata": {},
     "output_type": "execute_result"
    }
   ],
   "source": [
    "df.columns"
   ]
  },
  {
   "cell_type": "code",
   "execution_count": 7,
   "id": "4cdc71a5-5e60-43ef-b08e-a9979346294b",
   "metadata": {},
   "outputs": [
    {
     "data": {
      "text/plain": [
       "(343005, 13)"
      ]
     },
     "execution_count": 7,
     "metadata": {},
     "output_type": "execute_result"
    }
   ],
   "source": [
    "df.shape"
   ]
  },
  {
   "cell_type": "markdown",
   "id": "25a4c3f9-b59c-422a-bdff-3b134026819d",
   "metadata": {},
   "source": [
    "### Drop rows with null data"
   ]
  },
  {
   "cell_type": "code",
   "execution_count": 8,
   "id": "b0b808f7-a286-4231-9ec6-798bf8587666",
   "metadata": {},
   "outputs": [
    {
     "data": {
      "text/plain": [
       "468"
      ]
     },
     "execution_count": 8,
     "metadata": {},
     "output_type": "execute_result"
    }
   ],
   "source": [
    "rows_to_delete_na = df[df.isnull().any(axis=1)==True].index\n",
    "len(rows_to_delete_na)"
   ]
  },
  {
   "cell_type": "code",
   "execution_count": 9,
   "id": "036e7a8c-a032-46eb-955c-d64f782e97bb",
   "metadata": {},
   "outputs": [
    {
     "data": {
      "text/plain": [
       "(342537, 13)"
      ]
     },
     "execution_count": 9,
     "metadata": {},
     "output_type": "execute_result"
    }
   ],
   "source": [
    "df = df[~df.index.isin(rows_to_delete_na)]\n",
    "df.shape"
   ]
  },
  {
   "cell_type": "markdown",
   "id": "af7c7efd-731a-4160-9024-b62aa933f034",
   "metadata": {},
   "source": [
    "### Drop rows with time end less than time start"
   ]
  },
  {
   "cell_type": "code",
   "execution_count": 10,
   "id": "ea5cda82-6a06-4245-812c-6cd97c3b31f2",
   "metadata": {},
   "outputs": [
    {
     "data": {
      "text/plain": [
       "468"
      ]
     },
     "execution_count": 10,
     "metadata": {},
     "output_type": "execute_result"
    }
   ],
   "source": [
    "rows_to_delete_timenegative = df[(df['ended_at']<df['started_at'])].index\n",
    "len(rows_to_delete_timenegative)"
   ]
  },
  {
   "cell_type": "code",
   "execution_count": 11,
   "id": "8a2a3224-640e-43fd-92da-c6b24a630e1b",
   "metadata": {},
   "outputs": [
    {
     "data": {
      "text/plain": [
       "(342069, 13)"
      ]
     },
     "execution_count": 11,
     "metadata": {},
     "output_type": "execute_result"
    }
   ],
   "source": [
    "df = df[~df.index.isin(rows_to_delete_timenegative)]\n",
    "df.shape"
   ]
  },
  {
   "cell_type": "markdown",
   "id": "73711566-7b21-4887-b78b-ff364b3cabaf",
   "metadata": {},
   "source": [
    "## Observing lat long consistency per station id"
   ]
  },
  {
   "cell_type": "code",
   "execution_count": 12,
   "id": "269f4eec-da43-47bc-8d70-f05c30596833",
   "metadata": {},
   "outputs": [],
   "source": [
    "## Check latitude numbers associated with each station id."
   ]
  },
  {
   "cell_type": "code",
   "execution_count": 13,
   "id": "1c49ba86-2916-420f-85bb-7d17cb06661c",
   "metadata": {},
   "outputs": [],
   "source": [
    "# first concatenate start and stop stations to check outliers together\n",
    "df_lat_eval_start_station = df[['start_station_id','start_lat']].rename(columns={\"start_station_id\": \"station_id\", \"start_lat\": \"station_lat\"})\n",
    "df_lat_eval_end_station = df[['end_station_id','end_lat']].rename(columns={\"end_station_id\": \"station_id\", \"end_lat\": \"station_lat\"})\n",
    "df_lat_eval = pd.concat([df_lat_eval_start_station,df_lat_eval_end_station],axis=0)\n",
    "df_lat_eval.reset_index(inplace=True)\n",
    "df_lat_eval.columns = ['index_orig', 'station_id', 'station_lat']"
   ]
  },
  {
   "cell_type": "code",
   "execution_count": 14,
   "id": "57b1a64c-b988-471a-b311-e09a660aefb7",
   "metadata": {},
   "outputs": [],
   "source": [
    "from scipy import stats\n",
    "from scipy.stats import zscore"
   ]
  },
  {
   "cell_type": "code",
   "execution_count": 15,
   "id": "b9c13a84-b7fc-41a5-8518-dfecb2cc2936",
   "metadata": {},
   "outputs": [],
   "source": [
    "# try to find outliers for latitude number for each station id# delete rows with latitude number that is not consistent with the station id"
   ]
  },
  {
   "cell_type": "code",
   "execution_count": 16,
   "id": "7e05135b-4d3d-4187-a597-f6fe3fb037bd",
   "metadata": {},
   "outputs": [],
   "source": [
    "# the number of samples should be greater than 30 for relevant zscore calculation\n",
    "c = df_lat_eval.groupby(['station_id'])['station_id'].count()\n",
    "few_samples_station_ids= c[c<30].index\n",
    "df_lat_eval.drop(df_lat_eval[df_lat_eval['station_id'].isin(few_samples_station_ids)].index, inplace=True)"
   ]
  },
  {
   "cell_type": "code",
   "execution_count": 17,
   "id": "80f44bbd-e135-4fb9-9069-ae11ea899700",
   "metadata": {},
   "outputs": [],
   "source": [
    "# calculate z score using groupby station_id"
   ]
  },
  {
   "cell_type": "code",
   "execution_count": 18,
   "id": "f4db46ed-6b44-4127-9ccf-67873e55077f",
   "metadata": {},
   "outputs": [],
   "source": [
    "df_zscore_lat = df_lat_eval.groupby(['station_id'])['station_lat'].transform(lambda x : zscore(x,ddof=1))\n",
    "df_zscore_lat.name = 'zscore'"
   ]
  },
  {
   "cell_type": "code",
   "execution_count": 19,
   "id": "2fb94086-14fd-4207-80b3-f3f8d264ebb3",
   "metadata": {},
   "outputs": [],
   "source": [
    "df_lat_eval_zscore = pd.concat([df_lat_eval,df_zscore_lat],axis=1)\n",
    "rows_to_delete_lat = df_lat_eval_zscore[(df_lat_eval_zscore['zscore']<-3)|(df_lat_eval_zscore['zscore']>3)]\n",
    "rows_to_delete_list_lat=list(rows_to_delete_lat['index_orig'])"
   ]
  },
  {
   "cell_type": "code",
   "execution_count": 20,
   "id": "ed8bd6c7-6a37-41b1-a5aa-b0df4e402abb",
   "metadata": {},
   "outputs": [
    {
     "data": {
      "text/html": [
       "<div>\n",
       "<style scoped>\n",
       "    .dataframe tbody tr th:only-of-type {\n",
       "        vertical-align: middle;\n",
       "    }\n",
       "\n",
       "    .dataframe tbody tr th {\n",
       "        vertical-align: top;\n",
       "    }\n",
       "\n",
       "    .dataframe thead th {\n",
       "        text-align: right;\n",
       "    }\n",
       "</style>\n",
       "<table border=\"1\" class=\"dataframe\">\n",
       "  <thead>\n",
       "    <tr style=\"text-align: right;\">\n",
       "      <th></th>\n",
       "      <th>index_orig</th>\n",
       "      <th>station_id</th>\n",
       "      <th>station_lat</th>\n",
       "      <th>zscore</th>\n",
       "    </tr>\n",
       "  </thead>\n",
       "  <tbody>\n",
       "    <tr>\n",
       "      <th>250133</th>\n",
       "      <td>250823</td>\n",
       "      <td>120</td>\n",
       "      <td>41.853005</td>\n",
       "      <td>-10.882343</td>\n",
       "    </tr>\n",
       "    <tr>\n",
       "      <th>253043</th>\n",
       "      <td>253742</td>\n",
       "      <td>120</td>\n",
       "      <td>41.853005</td>\n",
       "      <td>-10.882343</td>\n",
       "    </tr>\n",
       "    <tr>\n",
       "      <th>272283</th>\n",
       "      <td>273026</td>\n",
       "      <td>120</td>\n",
       "      <td>41.853005</td>\n",
       "      <td>-10.882343</td>\n",
       "    </tr>\n",
       "    <tr>\n",
       "      <th>322418</th>\n",
       "      <td>323286</td>\n",
       "      <td>120</td>\n",
       "      <td>41.853005</td>\n",
       "      <td>-10.882343</td>\n",
       "    </tr>\n",
       "    <tr>\n",
       "      <th>370176</th>\n",
       "      <td>28210</td>\n",
       "      <td>120</td>\n",
       "      <td>41.853005</td>\n",
       "      <td>-10.882343</td>\n",
       "    </tr>\n",
       "    <tr>\n",
       "      <th>534399</th>\n",
       "      <td>192874</td>\n",
       "      <td>120</td>\n",
       "      <td>41.853005</td>\n",
       "      <td>-10.882343</td>\n",
       "    </tr>\n",
       "    <tr>\n",
       "      <th>584201</th>\n",
       "      <td>242803</td>\n",
       "      <td>120</td>\n",
       "      <td>41.853005</td>\n",
       "      <td>-10.882343</td>\n",
       "    </tr>\n",
       "    <tr>\n",
       "      <th>595117</th>\n",
       "      <td>253747</td>\n",
       "      <td>120</td>\n",
       "      <td>41.853005</td>\n",
       "      <td>-10.882343</td>\n",
       "    </tr>\n",
       "    <tr>\n",
       "      <th>664486</th>\n",
       "      <td>323285</td>\n",
       "      <td>120</td>\n",
       "      <td>41.853005</td>\n",
       "      <td>-10.882343</td>\n",
       "    </tr>\n",
       "  </tbody>\n",
       "</table>\n",
       "</div>"
      ],
      "text/plain": [
       "        index_orig station_id  station_lat     zscore\n",
       "250133      250823        120    41.853005 -10.882343\n",
       "253043      253742        120    41.853005 -10.882343\n",
       "272283      273026        120    41.853005 -10.882343\n",
       "322418      323286        120    41.853005 -10.882343\n",
       "370176       28210        120    41.853005 -10.882343\n",
       "534399      192874        120    41.853005 -10.882343\n",
       "584201      242803        120    41.853005 -10.882343\n",
       "595117      253747        120    41.853005 -10.882343\n",
       "664486      323285        120    41.853005 -10.882343"
      ]
     },
     "execution_count": 20,
     "metadata": {},
     "output_type": "execute_result"
    }
   ],
   "source": [
    "rows_to_delete_lat"
   ]
  },
  {
   "cell_type": "code",
   "execution_count": 21,
   "id": "27d79b80-0ad5-4331-8b3a-7706399c310d",
   "metadata": {},
   "outputs": [],
   "source": [
    "# use the same code to run on longitude"
   ]
  },
  {
   "cell_type": "code",
   "execution_count": 22,
   "id": "1c0fb51e-cd73-47bc-83e8-03db7b1bd71e",
   "metadata": {},
   "outputs": [],
   "source": [
    "df_lng_eval_start_station = df[['start_station_id','start_lng']].rename(columns={\"start_station_id\": \"station_id\", \"start_lng\": \"station_lng\"})\n",
    "df_lng_eval_end_station = df[['end_station_id','end_lng']].rename(columns={\"end_station_id\": \"station_id\", \"end_lng\": \"station_lng\"})\n",
    "df_lng_eval_start_station['start_end'] = 'start'\n",
    "df_lng_eval_end_station['start_end'] = 'end'\n",
    "df_lng_eval = pd.concat([df_lng_eval_start_station,df_lng_eval_end_station],axis=0)\n",
    "df_lng_eval.reset_index(inplace=True)\n",
    "df_lng_eval.columns = ['index_orig', 'station_id', 'station_lng', 'start_end']\n",
    "\n",
    "c = df_lng_eval.groupby(['station_id'])['station_id'].count()\n",
    "few_samples_station_ids= c[c<30].index\n",
    "few_samples_station_ids # exclude these station ids\n",
    "df_lng_eval.drop(df_lng_eval[df_lng_eval['station_id'].isin(few_samples_station_ids)].index, inplace=True)\n",
    "\n",
    "df_zscore_lng = df_lng_eval.groupby(['station_id'])['station_lng'].transform(lambda x : zscore(x,ddof=1))\n",
    "df_zscore_lng.name = 'zscore'\n",
    "df_lng_eval_zscore = pd.concat([df_lng_eval,df_zscore_lng],axis=1)\n",
    "rows_to_delete_lng = df_lng_eval_zscore[(df_lng_eval_zscore['zscore']<-3)|(df_lng_eval_zscore['zscore']>3)]\n",
    "\n",
    "rows_to_delete_list_lng=list(rows_to_delete_lng['index_orig'])"
   ]
  },
  {
   "cell_type": "code",
   "execution_count": 23,
   "id": "23300dc3-df0e-4d52-9b1b-21870f1255c9",
   "metadata": {},
   "outputs": [
    {
     "data": {
      "text/plain": [
       "[250823, 253742, 273026, 323286, 28210, 192874, 242803, 253747, 323285]"
      ]
     },
     "execution_count": 23,
     "metadata": {},
     "output_type": "execute_result"
    }
   ],
   "source": [
    "rows_to_delete_list_lat"
   ]
  },
  {
   "cell_type": "code",
   "execution_count": 24,
   "id": "f5d2cb8f-acda-4add-8799-1ee3ef26326c",
   "metadata": {},
   "outputs": [
    {
     "data": {
      "text/plain": [
       "[250823, 253742, 273026, 323286, 28210, 192874, 242803, 253747, 323285]"
      ]
     },
     "execution_count": 24,
     "metadata": {},
     "output_type": "execute_result"
    }
   ],
   "source": [
    "rows_to_delete_list_lng"
   ]
  },
  {
   "cell_type": "code",
   "execution_count": 25,
   "id": "e7ae785b-a177-4ffc-90aa-cc211bec0f30",
   "metadata": {},
   "outputs": [],
   "source": [
    "## it turns out the lat, long outliers are from the same station 120\n",
    "# further observation shows that the station name of the outlier has (Temp) in it"
   ]
  },
  {
   "cell_type": "code",
   "execution_count": 26,
   "id": "9ed6a665-11e2-4bae-ae6e-7c2749ee69d2",
   "metadata": {},
   "outputs": [
    {
     "data": {
      "text/html": [
       "<div>\n",
       "<style scoped>\n",
       "    .dataframe tbody tr th:only-of-type {\n",
       "        vertical-align: middle;\n",
       "    }\n",
       "\n",
       "    .dataframe tbody tr th {\n",
       "        vertical-align: top;\n",
       "    }\n",
       "\n",
       "    .dataframe thead th {\n",
       "        text-align: right;\n",
       "    }\n",
       "</style>\n",
       "<table border=\"1\" class=\"dataframe\">\n",
       "  <thead>\n",
       "    <tr style=\"text-align: right;\">\n",
       "      <th></th>\n",
       "      <th>ride_id</th>\n",
       "      <th>rideable_type</th>\n",
       "      <th>started_at</th>\n",
       "      <th>ended_at</th>\n",
       "      <th>start_station_name</th>\n",
       "      <th>start_station_id</th>\n",
       "      <th>end_station_name</th>\n",
       "      <th>end_station_id</th>\n",
       "      <th>start_lat</th>\n",
       "      <th>start_lng</th>\n",
       "      <th>end_lat</th>\n",
       "      <th>end_lng</th>\n",
       "      <th>member_casual</th>\n",
       "    </tr>\n",
       "  </thead>\n",
       "  <tbody>\n",
       "    <tr>\n",
       "      <th>28210</th>\n",
       "      <td>CB622F3F3943D307</td>\n",
       "      <td>docked_bike</td>\n",
       "      <td>2020-06-03 18:47:09</td>\n",
       "      <td>2020-06-03 18:53:59</td>\n",
       "      <td>Wabash Ave &amp; Roosevelt Rd</td>\n",
       "      <td>59</td>\n",
       "      <td>Wentworth Ave &amp; Cermak Rd (Temp)</td>\n",
       "      <td>120</td>\n",
       "      <td>41.867227</td>\n",
       "      <td>-87.625961</td>\n",
       "      <td>41.853005</td>\n",
       "      <td>-87.630578</td>\n",
       "      <td>member</td>\n",
       "    </tr>\n",
       "    <tr>\n",
       "      <th>192874</th>\n",
       "      <td>0D1FED7558DAEDA9</td>\n",
       "      <td>docked_bike</td>\n",
       "      <td>2020-06-03 16:52:32</td>\n",
       "      <td>2020-06-03 17:11:55</td>\n",
       "      <td>Federal St &amp; Polk St</td>\n",
       "      <td>41</td>\n",
       "      <td>Wentworth Ave &amp; Cermak Rd (Temp)</td>\n",
       "      <td>120</td>\n",
       "      <td>41.872077</td>\n",
       "      <td>-87.629543</td>\n",
       "      <td>41.853005</td>\n",
       "      <td>-87.630578</td>\n",
       "      <td>casual</td>\n",
       "    </tr>\n",
       "    <tr>\n",
       "      <th>242803</th>\n",
       "      <td>F4B0E2B5B8D3A809</td>\n",
       "      <td>docked_bike</td>\n",
       "      <td>2020-06-03 16:50:24</td>\n",
       "      <td>2020-06-03 17:12:04</td>\n",
       "      <td>Federal St &amp; Polk St</td>\n",
       "      <td>41</td>\n",
       "      <td>Wentworth Ave &amp; Cermak Rd (Temp)</td>\n",
       "      <td>120</td>\n",
       "      <td>41.872077</td>\n",
       "      <td>-87.629543</td>\n",
       "      <td>41.853005</td>\n",
       "      <td>-87.630578</td>\n",
       "      <td>casual</td>\n",
       "    </tr>\n",
       "    <tr>\n",
       "      <th>250823</th>\n",
       "      <td>E339E63520B6B694</td>\n",
       "      <td>docked_bike</td>\n",
       "      <td>2020-06-03 19:29:09</td>\n",
       "      <td>2020-06-03 19:38:03</td>\n",
       "      <td>Wentworth Ave &amp; Cermak Rd (Temp)</td>\n",
       "      <td>120</td>\n",
       "      <td>Wabash Ave &amp; Roosevelt Rd</td>\n",
       "      <td>59</td>\n",
       "      <td>41.853005</td>\n",
       "      <td>-87.630578</td>\n",
       "      <td>41.867227</td>\n",
       "      <td>-87.625961</td>\n",
       "      <td>casual</td>\n",
       "    </tr>\n",
       "    <tr>\n",
       "      <th>253742</th>\n",
       "      <td>5B8C6C6643F7B800</td>\n",
       "      <td>docked_bike</td>\n",
       "      <td>2020-06-03 10:28:39</td>\n",
       "      <td>2020-06-03 10:52:04</td>\n",
       "      <td>Wentworth Ave &amp; Cermak Rd (Temp)</td>\n",
       "      <td>120</td>\n",
       "      <td>Wabash Ave &amp; Roosevelt Rd</td>\n",
       "      <td>59</td>\n",
       "      <td>41.853005</td>\n",
       "      <td>-87.630578</td>\n",
       "      <td>41.867227</td>\n",
       "      <td>-87.625961</td>\n",
       "      <td>member</td>\n",
       "    </tr>\n",
       "    <tr>\n",
       "      <th>253747</th>\n",
       "      <td>7949EB2C8254A922</td>\n",
       "      <td>docked_bike</td>\n",
       "      <td>2020-06-03 10:58:17</td>\n",
       "      <td>2020-06-03 11:11:25</td>\n",
       "      <td>Wabash Ave &amp; Roosevelt Rd</td>\n",
       "      <td>59</td>\n",
       "      <td>Wentworth Ave &amp; Cermak Rd (Temp)</td>\n",
       "      <td>120</td>\n",
       "      <td>41.867227</td>\n",
       "      <td>-87.625961</td>\n",
       "      <td>41.853005</td>\n",
       "      <td>-87.630578</td>\n",
       "      <td>member</td>\n",
       "    </tr>\n",
       "    <tr>\n",
       "      <th>273026</th>\n",
       "      <td>D0C9C616E9C73DA0</td>\n",
       "      <td>docked_bike</td>\n",
       "      <td>2020-06-03 06:36:30</td>\n",
       "      <td>2020-06-03 06:49:15</td>\n",
       "      <td>Wentworth Ave &amp; Cermak Rd (Temp)</td>\n",
       "      <td>120</td>\n",
       "      <td>Clinton St &amp; Madison St</td>\n",
       "      <td>77</td>\n",
       "      <td>41.853005</td>\n",
       "      <td>-87.630578</td>\n",
       "      <td>41.882242</td>\n",
       "      <td>-87.641066</td>\n",
       "      <td>member</td>\n",
       "    </tr>\n",
       "    <tr>\n",
       "      <th>323285</th>\n",
       "      <td>598377F12456DE37</td>\n",
       "      <td>docked_bike</td>\n",
       "      <td>2020-06-03 15:35:40</td>\n",
       "      <td>2020-06-03 15:49:52</td>\n",
       "      <td>Clinton St &amp; Madison St</td>\n",
       "      <td>77</td>\n",
       "      <td>Wentworth Ave &amp; Cermak Rd (Temp)</td>\n",
       "      <td>120</td>\n",
       "      <td>41.882242</td>\n",
       "      <td>-87.641066</td>\n",
       "      <td>41.853005</td>\n",
       "      <td>-87.630578</td>\n",
       "      <td>member</td>\n",
       "    </tr>\n",
       "    <tr>\n",
       "      <th>323286</th>\n",
       "      <td>32BA9A607CE885C3</td>\n",
       "      <td>docked_bike</td>\n",
       "      <td>2020-06-04 06:39:14</td>\n",
       "      <td>2020-06-04 06:53:09</td>\n",
       "      <td>Wentworth Ave &amp; Cermak Rd (Temp)</td>\n",
       "      <td>120</td>\n",
       "      <td>Clinton St &amp; Madison St</td>\n",
       "      <td>77</td>\n",
       "      <td>41.853005</td>\n",
       "      <td>-87.630578</td>\n",
       "      <td>41.882242</td>\n",
       "      <td>-87.641066</td>\n",
       "      <td>member</td>\n",
       "    </tr>\n",
       "  </tbody>\n",
       "</table>\n",
       "</div>"
      ],
      "text/plain": [
       "                 ride_id rideable_type          started_at  \\\n",
       "28210   CB622F3F3943D307   docked_bike 2020-06-03 18:47:09   \n",
       "192874  0D1FED7558DAEDA9   docked_bike 2020-06-03 16:52:32   \n",
       "242803  F4B0E2B5B8D3A809   docked_bike 2020-06-03 16:50:24   \n",
       "250823  E339E63520B6B694   docked_bike 2020-06-03 19:29:09   \n",
       "253742  5B8C6C6643F7B800   docked_bike 2020-06-03 10:28:39   \n",
       "253747  7949EB2C8254A922   docked_bike 2020-06-03 10:58:17   \n",
       "273026  D0C9C616E9C73DA0   docked_bike 2020-06-03 06:36:30   \n",
       "323285  598377F12456DE37   docked_bike 2020-06-03 15:35:40   \n",
       "323286  32BA9A607CE885C3   docked_bike 2020-06-04 06:39:14   \n",
       "\n",
       "                  ended_at                start_station_name start_station_id  \\\n",
       "28210  2020-06-03 18:53:59         Wabash Ave & Roosevelt Rd               59   \n",
       "192874 2020-06-03 17:11:55              Federal St & Polk St               41   \n",
       "242803 2020-06-03 17:12:04              Federal St & Polk St               41   \n",
       "250823 2020-06-03 19:38:03  Wentworth Ave & Cermak Rd (Temp)              120   \n",
       "253742 2020-06-03 10:52:04  Wentworth Ave & Cermak Rd (Temp)              120   \n",
       "253747 2020-06-03 11:11:25         Wabash Ave & Roosevelt Rd               59   \n",
       "273026 2020-06-03 06:49:15  Wentworth Ave & Cermak Rd (Temp)              120   \n",
       "323285 2020-06-03 15:49:52           Clinton St & Madison St               77   \n",
       "323286 2020-06-04 06:53:09  Wentworth Ave & Cermak Rd (Temp)              120   \n",
       "\n",
       "                        end_station_name end_station_id  start_lat  start_lng  \\\n",
       "28210   Wentworth Ave & Cermak Rd (Temp)            120  41.867227 -87.625961   \n",
       "192874  Wentworth Ave & Cermak Rd (Temp)            120  41.872077 -87.629543   \n",
       "242803  Wentworth Ave & Cermak Rd (Temp)            120  41.872077 -87.629543   \n",
       "250823         Wabash Ave & Roosevelt Rd             59  41.853005 -87.630578   \n",
       "253742         Wabash Ave & Roosevelt Rd             59  41.853005 -87.630578   \n",
       "253747  Wentworth Ave & Cermak Rd (Temp)            120  41.867227 -87.625961   \n",
       "273026           Clinton St & Madison St             77  41.853005 -87.630578   \n",
       "323285  Wentworth Ave & Cermak Rd (Temp)            120  41.882242 -87.641066   \n",
       "323286           Clinton St & Madison St             77  41.853005 -87.630578   \n",
       "\n",
       "          end_lat    end_lng member_casual  \n",
       "28210   41.853005 -87.630578        member  \n",
       "192874  41.853005 -87.630578        casual  \n",
       "242803  41.853005 -87.630578        casual  \n",
       "250823  41.867227 -87.625961        casual  \n",
       "253742  41.867227 -87.625961        member  \n",
       "253747  41.853005 -87.630578        member  \n",
       "273026  41.882242 -87.641066        member  \n",
       "323285  41.853005 -87.630578        member  \n",
       "323286  41.882242 -87.641066        member  "
      ]
     },
     "execution_count": 26,
     "metadata": {},
     "output_type": "execute_result"
    }
   ],
   "source": [
    "df[df.index.isin(rows_to_delete_list_lat)]"
   ]
  },
  {
   "cell_type": "markdown",
   "id": "6aaed062-5681-4dec-9a9b-9bc60269adbc",
   "metadata": {},
   "source": [
    "### It is very possible the station names with (Temp) are for testing only\n",
    "The rows that contain station name with Temp ought to be deleted"
   ]
  },
  {
   "cell_type": "code",
   "execution_count": 27,
   "id": "3a4421c0-94f5-4609-b5a7-47d87149917c",
   "metadata": {},
   "outputs": [],
   "source": [
    "rows_to_delete_temp = list(df[df['start_station_name'].str.contains(\"Temp\")].index)"
   ]
  },
  {
   "cell_type": "markdown",
   "id": "c7769d3a-7b06-4ac8-9743-65e4c78dae22",
   "metadata": {},
   "source": [
    "### Now do the final clean up by deleting rows with lat/lng outlier, and with temp stations"
   ]
  },
  {
   "cell_type": "code",
   "execution_count": 28,
   "id": "80414b68-c2d0-4263-b2b1-feb697f11851",
   "metadata": {},
   "outputs": [],
   "source": [
    "rows_to_drop = list(set(rows_to_delete_list_lat) | set(rows_to_delete_list_lng) | set(rows_to_delete_temp) )\n",
    "df = df[~df.index.isin(rows_to_drop)]"
   ]
  },
  {
   "cell_type": "code",
   "execution_count": 29,
   "id": "378b990e-80b6-485f-aedd-af8ad9e82cb7",
   "metadata": {},
   "outputs": [
    {
     "data": {
      "text/plain": [
       "(339983, 13)"
      ]
     },
     "execution_count": 29,
     "metadata": {},
     "output_type": "execute_result"
    }
   ],
   "source": [
    "df.shape"
   ]
  },
  {
   "cell_type": "markdown",
   "id": "aca714fa-8357-411b-872f-f903ea73dfd9",
   "metadata": {},
   "source": [
    "### Calculate trip duration and examine outliers"
   ]
  },
  {
   "cell_type": "code",
   "execution_count": 30,
   "id": "ab2bac66-b6ba-4bfa-9244-908e71eee3c2",
   "metadata": {},
   "outputs": [],
   "source": [
    "import datetime"
   ]
  },
  {
   "cell_type": "code",
   "execution_count": 31,
   "id": "55bdf2ed-2edb-4a00-872f-1da7c35c50fc",
   "metadata": {},
   "outputs": [],
   "source": [
    "duration  = (df['ended_at']-df['started_at']).apply(datetime.timedelta.total_seconds)"
   ]
  },
  {
   "cell_type": "code",
   "execution_count": 32,
   "id": "e0525167-9c21-46e5-927d-582e0020a1a0",
   "metadata": {},
   "outputs": [],
   "source": [
    "duration.name ='duration'"
   ]
  },
  {
   "cell_type": "code",
   "execution_count": 33,
   "id": "86c66d20-cb99-4ae3-ad35-011e76b0bba4",
   "metadata": {},
   "outputs": [],
   "source": [
    "duration_zscore_calc = ((duration - duration.mean())/duration.std())"
   ]
  },
  {
   "cell_type": "code",
   "execution_count": 34,
   "id": "60bf3e4b-e5ad-4275-a4f2-bf630b60d59f",
   "metadata": {},
   "outputs": [],
   "source": [
    "duration_outliers = duration[(duration_zscore_calc>3) | (duration_zscore_calc<-3)]"
   ]
  },
  {
   "cell_type": "code",
   "execution_count": 35,
   "id": "83a576fe-b694-44a8-bdcf-9c0d6f19e51d",
   "metadata": {},
   "outputs": [
    {
     "data": {
      "text/plain": [
       "12.953611111111112"
      ]
     },
     "execution_count": 35,
     "metadata": {},
     "output_type": "execute_result"
    }
   ],
   "source": [
    "duration_outliers.min()/60/60"
   ]
  },
  {
   "cell_type": "code",
   "execution_count": 36,
   "id": "1d649582-28e4-4672-8f26-d5e7dcd869bf",
   "metadata": {},
   "outputs": [],
   "source": [
    "rows_to_delete_duration = duration_outliers.index"
   ]
  },
  {
   "cell_type": "code",
   "execution_count": 37,
   "id": "04bab02c-c181-4839-9e0e-f23791f7e763",
   "metadata": {},
   "outputs": [
    {
     "data": {
      "text/plain": [
       "28.660416666666666"
      ]
     },
     "execution_count": 37,
     "metadata": {},
     "output_type": "execute_result"
    }
   ],
   "source": [
    "duration_outliers.max()/60/60/24"
   ]
  },
  {
   "cell_type": "code",
   "execution_count": 38,
   "id": "8d72f3d9-fbb9-4ab5-8606-b013a19f061a",
   "metadata": {},
   "outputs": [
    {
     "data": {
      "text/html": [
       "<div>\n",
       "<style scoped>\n",
       "    .dataframe tbody tr th:only-of-type {\n",
       "        vertical-align: middle;\n",
       "    }\n",
       "\n",
       "    .dataframe tbody tr th {\n",
       "        vertical-align: top;\n",
       "    }\n",
       "\n",
       "    .dataframe thead th {\n",
       "        text-align: right;\n",
       "    }\n",
       "</style>\n",
       "<table border=\"1\" class=\"dataframe\">\n",
       "  <thead>\n",
       "    <tr style=\"text-align: right;\">\n",
       "      <th></th>\n",
       "      <th>ride_id</th>\n",
       "      <th>rideable_type</th>\n",
       "      <th>started_at</th>\n",
       "      <th>ended_at</th>\n",
       "      <th>start_station_name</th>\n",
       "      <th>start_station_id</th>\n",
       "      <th>end_station_name</th>\n",
       "      <th>end_station_id</th>\n",
       "      <th>start_lat</th>\n",
       "      <th>start_lng</th>\n",
       "      <th>end_lat</th>\n",
       "      <th>end_lng</th>\n",
       "      <th>member_casual</th>\n",
       "    </tr>\n",
       "  </thead>\n",
       "  <tbody>\n",
       "    <tr>\n",
       "      <th>162077</th>\n",
       "      <td>BE755E8C79D4E917</td>\n",
       "      <td>docked_bike</td>\n",
       "      <td>2020-06-03 18:13:50</td>\n",
       "      <td>2020-07-02 10:04:50</td>\n",
       "      <td>Wolcott Ave &amp; Polk St</td>\n",
       "      <td>342</td>\n",
       "      <td>Kedzie Ave &amp; Harrison St</td>\n",
       "      <td>433</td>\n",
       "      <td>41.871262</td>\n",
       "      <td>-87.673688</td>\n",
       "      <td>41.8736</td>\n",
       "      <td>-87.704871</td>\n",
       "      <td>member</td>\n",
       "    </tr>\n",
       "  </tbody>\n",
       "</table>\n",
       "</div>"
      ],
      "text/plain": [
       "                 ride_id rideable_type          started_at  \\\n",
       "162077  BE755E8C79D4E917   docked_bike 2020-06-03 18:13:50   \n",
       "\n",
       "                  ended_at     start_station_name start_station_id  \\\n",
       "162077 2020-07-02 10:04:50  Wolcott Ave & Polk St              342   \n",
       "\n",
       "                end_station_name end_station_id  start_lat  start_lng  \\\n",
       "162077  Kedzie Ave & Harrison St            433  41.871262 -87.673688   \n",
       "\n",
       "        end_lat    end_lng member_casual  \n",
       "162077  41.8736 -87.704871        member  "
      ]
     },
     "execution_count": 38,
     "metadata": {},
     "output_type": "execute_result"
    }
   ],
   "source": [
    "df.loc[duration_outliers[duration_outliers==duration_outliers.max()].index]"
   ]
  },
  {
   "cell_type": "code",
   "execution_count": 39,
   "id": "a9f9660b-b402-4002-9113-3cc479101f13",
   "metadata": {},
   "outputs": [
    {
     "data": {
      "text/plain": [
       "(339983, 13)"
      ]
     },
     "execution_count": 39,
     "metadata": {},
     "output_type": "execute_result"
    }
   ],
   "source": [
    "df.shape"
   ]
  },
  {
   "cell_type": "code",
   "execution_count": 40,
   "id": "b7ed6d1e-4d0d-4e02-b12d-5a0cd24bd657",
   "metadata": {},
   "outputs": [
    {
     "data": {
      "text/plain": [
       "(339194, 13)"
      ]
     },
     "execution_count": 40,
     "metadata": {},
     "output_type": "execute_result"
    }
   ],
   "source": [
    "df = df[~df.index.isin(rows_to_delete_duration)]\n",
    "df.shape"
   ]
  },
  {
   "cell_type": "markdown",
   "id": "60397f77-46c2-4913-aff6-9a6615b48148",
   "metadata": {},
   "source": [
    "### Collect all the index of all the deleted rows and output as csv for record"
   ]
  },
  {
   "cell_type": "code",
   "execution_count": 41,
   "id": "866c1a0e-1288-4de0-baf1-6d469c97ffd5",
   "metadata": {},
   "outputs": [],
   "source": [
    "rows_deleted = list(set(rows_to_delete_na) |\\\n",
    "                    set(rows_to_delete_timenegative)|\\\n",
    "                    set(rows_to_delete_duration)|\\\n",
    "                    set(rows_to_delete_list_lat) | \\\n",
    "                    set(rows_to_delete_list_lng) | \\\n",
    "                    set(rows_to_delete_temp) ) "
   ]
  },
  {
   "cell_type": "code",
   "execution_count": 42,
   "id": "eecba040-6d40-456e-85fc-8a3bfda694a3",
   "metadata": {},
   "outputs": [
    {
     "data": {
      "text/plain": [
       "3811"
      ]
     },
     "execution_count": 42,
     "metadata": {},
     "output_type": "execute_result"
    }
   ],
   "source": [
    "len(rows_deleted)"
   ]
  },
  {
   "cell_type": "code",
   "execution_count": 48,
   "id": "ea98faec-b188-455d-a349-4a191fcefd80",
   "metadata": {},
   "outputs": [],
   "source": [
    "file_dest = './data/deleted_rows/row_deleted_for_'+filename\n",
    "\n",
    "pd.DataFrame(rows_deleted).to_csv(file_dest)"
   ]
  },
  {
   "cell_type": "code",
   "execution_count": 51,
   "id": "6f96dea8-d53b-4f4b-9836-a41b48ae3bc5",
   "metadata": {},
   "outputs": [],
   "source": [
    "df.to_csv('./data/cleaned_csv/'+filename)"
   ]
  },
  {
   "cell_type": "code",
   "execution_count": null,
   "id": "702e6d50-bb70-4c4b-9382-02b9226ff693",
   "metadata": {},
   "outputs": [],
   "source": []
  }
 ],
 "metadata": {
  "kernelspec": {
   "display_name": "cyclistic_kernel",
   "language": "python",
   "name": "cyclistic_kernel"
  },
  "language_info": {
   "codemirror_mode": {
    "name": "ipython",
    "version": 3
   },
   "file_extension": ".py",
   "mimetype": "text/x-python",
   "name": "python",
   "nbconvert_exporter": "python",
   "pygments_lexer": "ipython3",
   "version": "3.9.13"
  }
 },
 "nbformat": 4,
 "nbformat_minor": 5
}
