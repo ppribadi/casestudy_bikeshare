{
 "cells": [
  {
   "cell_type": "markdown",
   "id": "63144278-9e9a-42e8-9057-6272126c2162",
   "metadata": {},
   "source": [
    "# STAGE 1: ASK\n",
    "\n",
    "- What topic are you exploring?\n",
    "- What is the problem you are trying to solve?\n",
    "- What metrics will you use to measure your data to achieve your objective? Who are the stakeholders?\n",
    "- Who is your audience for this analysis and how does this affect your analysis process and presentation?\n",
    "- How will this data help your stakeholders make decisions?\n",
    "\n",
    "## Key tasks\n",
    "It’s important to understand the problem and any questions about your case study early on so that you’re focused on your stakeholders’ needs.\n",
    "- Choose a case study\n",
    "- Identify the problem\n",
    "- Determine key stakeholders\n",
    "- Explore the data and establish metrics"
   ]
  },
  {
   "cell_type": "markdown",
   "id": "02ca2409-1753-471d-b1a7-2335a9c579cd",
   "metadata": {},
   "source": [
    "## CASE STUDY"
   ]
  },
  {
   "cell_type": "markdown",
   "id": "66cbc37b-c842-4fdb-8270-fa2649de352d",
   "metadata": {},
   "source": [
    "### About the company - A Fictional Company\n",
    "In 2016, Cyclistic launched a successful bike-share offering. Since then, the program has grown to a fleet of 5,824 bicycles that are geotracked and locked into a network of 692 stations across Chicago. The bikes can be unlocked from one station and returned to any other station in the system anytime.\n",
    "\n",
    "Until now, Cyclistic’s marketing strategy relied on building general awareness and appealing to broad consumer segments. One approach that helped make these things possible was the flexibility of its pricing plans: single-ride passes, full-day passes, and annual memberships. Customers who purchase single-ride or full-day passes are referred to as casual riders. Customers who purchase annual memberships are Cyclistic members.\n",
    "\n",
    "<font color='red'>Cyclistic’s finance analysts have concluded that annual members are much more profitable than casual riders. </font> Although the pricing flexibility helps Cyclistic attract more customers, Moreno believes that maximizing the number of annual members will be key to future growth. Rather than creating a marketing campaign that targets all-new customers, Moreno believes there is a very good chance to convert casual riders into members. She notes that casual riders are already aware of the Cyclistic program and have chosen Cyclistic for their mobility needs.\n",
    "\n",
    "<font color='red'>Moreno has set a clear goal: Design marketing strategies aimed at converting casual riders into annual members.</font> In order to do that, however, the marketing analyst team needs to better understand how annual members and casual riders differ, why casual riders would buy a membership, and how digital media could affect their marketing tactics. Moreno and her team are interested in analyzing the Cyclistic historical bike trip data to identify trends."
   ]
  },
  {
   "cell_type": "markdown",
   "id": "a46c96e8-ec35-438a-9919-517aaef0f7f0",
   "metadata": {},
   "source": [
    "### Business Task requested by Director of Marketing :\n",
    "- hypothesis: \n",
    "**Cyclistic**'s future success depends on maximizing number of memberships. The strategy is to convert causal rider to annual member.\n",
    "- Problems to solve (Business Tasks):  How do annual members and casual riders use Cyclistic bikes differently?\n",
    "    My initial definition of detailed questions:\n",
    "    Answer these questions on difference between member and casual riders:\n",
    "    \n",
    "       1. How many rides per month? How are they trending in time?\n",
    "       2. How different are the ride durations? By hour of day and by day of week\n",
    "       3. How different are  usages by locations? \n",
    "       4. Any locations that standout with large casual usages? (potential high conversion user group)\n",
    "\n",
    "- Stakeholder(primary) : Director of Marketing : develop maketing campaigns, executive team(approve or disapprove campaigns)\n",
    "- Stakeholder(secondary): The marketing analyst team (data collection and reporting)\n",
    "- The data span is 202004 to 202208\n",
    "\n"
   ]
  },
  {
   "cell_type": "raw",
   "id": "df039ca5-f958-48a0-8ba7-eef0988a153b",
   "metadata": {},
   "source": []
  }
 ],
 "metadata": {
  "kernelspec": {
   "display_name": "Python 3 (ipykernel)",
   "language": "python",
   "name": "python3"
  },
  "language_info": {
   "codemirror_mode": {
    "name": "ipython",
    "version": 3
   },
   "file_extension": ".py",
   "mimetype": "text/x-python",
   "name": "python",
   "nbconvert_exporter": "python",
   "pygments_lexer": "ipython3",
   "version": "3.9.7"
  }
 },
 "nbformat": 4,
 "nbformat_minor": 5
}
