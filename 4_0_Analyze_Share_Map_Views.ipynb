{
 "cells": [
  {
   "cell_type": "markdown",
   "id": "63144278-9e9a-42e8-9057-6272126c2162",
   "metadata": {},
   "source": [
    "# STAGE 4: ANALYZE\n",
    "\n",
    "- How should you organize your data to perform analysis on it?\n",
    "- Has your data been properly formatted?\n",
    "- What surprises did you discover in the data?\n",
    "- What trends or relationships did you find in the data?\n",
    "- How will these insights help answer your business questions?\n",
    "\n",
    "## Key tasks\n",
    "- Aggregate your data so it’s useful and accessible. \n",
    "- Organize and format your data.\n",
    "- Perform calculations.\n",
    "- Identify trends and relationships."
   ]
  },
  {
   "cell_type": "markdown",
   "id": "b868d0bb-1e4e-48f5-a6e7-1fc71c8f4c95",
   "metadata": {
    "tags": []
   },
   "source": [
    "# STAGE 5: SHARE\n",
    "\n",
    "- Were you able to answer the question of how annual members and casual riders use Cyclistic bikes differently? - What story does your data tell?\n",
    "- How do your findings relate to your original question?\n",
    "- Who is your audience? What is the best way to communicate with them?\n",
    "- Can data visualization help you share your findings?\n",
    "- Is your presentation accessible to your audience?\n",
    "\n",
    "## Key tasks\n",
    "- Determine the best way to share your findings.\n",
    "- Create effective data visualizations.\n",
    "- Present your findings. \n",
    "- Ensure your work is accessible."
   ]
  },
  {
   "cell_type": "markdown",
   "id": "a5c5073a-2aef-4fcc-a5bd-a80f777b6d91",
   "metadata": {},
   "source": [
    "## Data Aggregation : Get ride counts by month with station lat lng attributions \n",
    "- I will collect station names and member/casual ride counts for each month and save into a csv file:\n",
    "<font color = 'red'>dfstations_ride_count_master.csv</font>\n",
    "- Since there are start and end stations for each ride, I will iterate them separately and combined them into one master file."
   ]
  },
  {
   "cell_type": "code",
   "execution_count": 1,
   "id": "c1d52fe7-4c7b-413b-801e-34b2158d4bcd",
   "metadata": {},
   "outputs": [],
   "source": [
    "import pandas as pd\n",
    "\n",
    "file_list_df = pd.read_csv('file_list_2020.csv', header=None, names= ['filename'])\n",
    "file_list = file_list_df['filename'].values\n",
    "\n",
    "dtypes = {'ride_id': 'str', 'rideable_type': 'category', 'start_station_name': 'category', 'start_station_id': 'category', 'end_station_name':'category',\n",
    "           'end_station_id': 'category', 'member_casual':'category'}\n",
    "\n",
    "def read_csv_to_df(filename, dtype):\n",
    "    df = pd.read_csv('./Data/cleaned_csv/'+filename, parse_dates=['started_at','ended_at'],dtype = dtype)\n",
    "    return df"
   ]
  },
  {
   "cell_type": "code",
   "execution_count": 2,
   "id": "44f29e1d-59c5-4e7f-a444-c5bc35cca86d",
   "metadata": {},
   "outputs": [],
   "source": [
    "from datetime import datetime"
   ]
  },
  {
   "cell_type": "code",
   "execution_count": 3,
   "id": "f224ee06-d91b-45ca-a7f3-05a3e225644f",
   "metadata": {},
   "outputs": [],
   "source": [
    "dfstations_start_ride_count_master = pd.DataFrame()\n",
    "for filename in file_list:\n",
    "    df_filename = read_csv_to_df(filename, dtypes)\n",
    "    # calculate lat lng for each station for later map visualization\n",
    "    # name the column names without \"start\" or \"end\"\n",
    "    dfstation_lat = df_filename.groupby(['start_station_name','member_casual'])['start_lat'].mean()\n",
    "    dfstation_lat.name = 'station_lat'\n",
    "    dfstation_lng = df_filename.groupby(['start_station_name','member_casual'])['start_lng'].mean()\n",
    "    dfstation_lng.name = 'station_lng'\n",
    "    \n",
    "    dfstation_latlng = pd.concat([dfstation_lat, dfstation_lng], axis=1)\n",
    "    dfstation_latlng.index.set_names(['station_name','member'], inplace=True)\n",
    "    \n",
    "    dfstation_latlng['Ym']= datetime.strptime(filename[0:6],'%Y%m')\n",
    "    dfstation_latlng['count']=df_filename.groupby(['start_station_name','member_casual'])['ride_id'].count()\n",
    "    dfstations_start_ride_count_master = pd.concat([dfstations_start_ride_count_master, dfstation_latlng], axis=0)\n",
    "\n",
    "# filter out 0 count rows    \n",
    "dfstations_start_ride_count_master=dfstations_start_ride_count_master[dfstations_start_ride_count_master['count']>0]\n",
    "    "
   ]
  },
  {
   "cell_type": "code",
   "execution_count": 4,
   "id": "1dbf9cc5-1d24-40d7-a184-f0e27ed6010c",
   "metadata": {},
   "outputs": [
    {
     "name": "stdout",
     "output_type": "stream",
     "text": [
      "(40453, 4)\n"
     ]
    },
    {
     "data": {
      "text/html": [
       "<div>\n",
       "<style scoped>\n",
       "    .dataframe tbody tr th:only-of-type {\n",
       "        vertical-align: middle;\n",
       "    }\n",
       "\n",
       "    .dataframe tbody tr th {\n",
       "        vertical-align: top;\n",
       "    }\n",
       "\n",
       "    .dataframe thead th {\n",
       "        text-align: right;\n",
       "    }\n",
       "</style>\n",
       "<table border=\"1\" class=\"dataframe\">\n",
       "  <thead>\n",
       "    <tr style=\"text-align: right;\">\n",
       "      <th></th>\n",
       "      <th></th>\n",
       "      <th>station_lat</th>\n",
       "      <th>station_lng</th>\n",
       "      <th>Ym</th>\n",
       "      <th>count</th>\n",
       "    </tr>\n",
       "    <tr>\n",
       "      <th>station_name</th>\n",
       "      <th>member</th>\n",
       "      <th></th>\n",
       "      <th></th>\n",
       "      <th></th>\n",
       "      <th></th>\n",
       "    </tr>\n",
       "  </thead>\n",
       "  <tbody>\n",
       "    <tr>\n",
       "      <th rowspan=\"2\" valign=\"top\">2112 W Peterson Ave</th>\n",
       "      <th>casual</th>\n",
       "      <td>41.9912</td>\n",
       "      <td>-87.6836</td>\n",
       "      <td>2020-04-01</td>\n",
       "      <td>13</td>\n",
       "    </tr>\n",
       "    <tr>\n",
       "      <th>member</th>\n",
       "      <td>41.9912</td>\n",
       "      <td>-87.6836</td>\n",
       "      <td>2020-04-01</td>\n",
       "      <td>29</td>\n",
       "    </tr>\n",
       "    <tr>\n",
       "      <th rowspan=\"2\" valign=\"top\">63rd St Beach</th>\n",
       "      <th>casual</th>\n",
       "      <td>41.7810</td>\n",
       "      <td>-87.5761</td>\n",
       "      <td>2020-04-01</td>\n",
       "      <td>5</td>\n",
       "    </tr>\n",
       "    <tr>\n",
       "      <th>member</th>\n",
       "      <td>41.7810</td>\n",
       "      <td>-87.5761</td>\n",
       "      <td>2020-04-01</td>\n",
       "      <td>33</td>\n",
       "    </tr>\n",
       "    <tr>\n",
       "      <th>900 W Harrison St</th>\n",
       "      <th>casual</th>\n",
       "      <td>41.8748</td>\n",
       "      <td>-87.6498</td>\n",
       "      <td>2020-04-01</td>\n",
       "      <td>31</td>\n",
       "    </tr>\n",
       "  </tbody>\n",
       "</table>\n",
       "</div>"
      ],
      "text/plain": [
       "                            station_lat  station_lng         Ym  count\n",
       "station_name        member                                            \n",
       "2112 W Peterson Ave casual      41.9912     -87.6836 2020-04-01     13\n",
       "                    member      41.9912     -87.6836 2020-04-01     29\n",
       "63rd St Beach       casual      41.7810     -87.5761 2020-04-01      5\n",
       "                    member      41.7810     -87.5761 2020-04-01     33\n",
       "900 W Harrison St   casual      41.8748     -87.6498 2020-04-01     31"
      ]
     },
     "execution_count": 4,
     "metadata": {},
     "output_type": "execute_result"
    }
   ],
   "source": [
    "print (dfstations_start_ride_count_master.shape)\n",
    "dfstations_start_ride_count_master.head()"
   ]
  },
  {
   "cell_type": "code",
   "execution_count": 5,
   "id": "45a06293-4d43-44bf-8d4f-f12a18f957ab",
   "metadata": {},
   "outputs": [],
   "source": [
    "dfstations_end_ride_count_master = pd.DataFrame()\n",
    "for filename in file_list:\n",
    "    df_filename = read_csv_to_df(filename, dtypes)\n",
    "    # calculate lat lng for each station for later map visualization\n",
    "    # name the column names without \"end\" or \"end\"\n",
    "    dfstation_lat = df_filename.groupby(['end_station_name','member_casual'])['end_lat'].mean()\n",
    "    dfstation_lat.name = 'station_lat'\n",
    "    dfstation_lng = df_filename.groupby(['end_station_name','member_casual'])['end_lng'].mean()\n",
    "    dfstation_lng.name = 'station_lng'\n",
    "    \n",
    "    dfstation_latlng = pd.concat([dfstation_lat, dfstation_lng], axis=1)\n",
    "    dfstation_latlng.index.set_names(['station_name','member'], inplace=True)\n",
    "    \n",
    "    dfstation_latlng['Ym']= datetime.strptime(filename[0:6],'%Y%m')\n",
    "    dfstation_latlng['count']=df_filename.groupby(['end_station_name','member_casual'])['ride_id'].count()\n",
    "    dfstations_end_ride_count_master = pd.concat([dfstations_end_ride_count_master, dfstation_latlng], axis=0)\n",
    "\n",
    "# filter out 0 count rows    \n",
    "dfstations_end_ride_count_master=dfstations_end_ride_count_master[dfstations_end_ride_count_master['count']>0]\n",
    "    #print (filename, Ym)"
   ]
  },
  {
   "cell_type": "code",
   "execution_count": 6,
   "id": "2a06d722-5c53-4853-90a6-8699bd340105",
   "metadata": {},
   "outputs": [
    {
     "name": "stdout",
     "output_type": "stream",
     "text": [
      "(40746, 4)\n"
     ]
    },
    {
     "data": {
      "text/html": [
       "<div>\n",
       "<style scoped>\n",
       "    .dataframe tbody tr th:only-of-type {\n",
       "        vertical-align: middle;\n",
       "    }\n",
       "\n",
       "    .dataframe tbody tr th {\n",
       "        vertical-align: top;\n",
       "    }\n",
       "\n",
       "    .dataframe thead th {\n",
       "        text-align: right;\n",
       "    }\n",
       "</style>\n",
       "<table border=\"1\" class=\"dataframe\">\n",
       "  <thead>\n",
       "    <tr style=\"text-align: right;\">\n",
       "      <th></th>\n",
       "      <th></th>\n",
       "      <th>station_lat</th>\n",
       "      <th>station_lng</th>\n",
       "      <th>Ym</th>\n",
       "      <th>count</th>\n",
       "    </tr>\n",
       "    <tr>\n",
       "      <th>station_name</th>\n",
       "      <th>member</th>\n",
       "      <th></th>\n",
       "      <th></th>\n",
       "      <th></th>\n",
       "      <th></th>\n",
       "    </tr>\n",
       "  </thead>\n",
       "  <tbody>\n",
       "    <tr>\n",
       "      <th rowspan=\"2\" valign=\"top\">2112 W Peterson Ave</th>\n",
       "      <th>casual</th>\n",
       "      <td>41.9912</td>\n",
       "      <td>-87.6836</td>\n",
       "      <td>2020-04-01</td>\n",
       "      <td>13</td>\n",
       "    </tr>\n",
       "    <tr>\n",
       "      <th>member</th>\n",
       "      <td>41.9912</td>\n",
       "      <td>-87.6836</td>\n",
       "      <td>2020-04-01</td>\n",
       "      <td>37</td>\n",
       "    </tr>\n",
       "    <tr>\n",
       "      <th rowspan=\"2\" valign=\"top\">63rd St Beach</th>\n",
       "      <th>casual</th>\n",
       "      <td>41.7810</td>\n",
       "      <td>-87.5761</td>\n",
       "      <td>2020-04-01</td>\n",
       "      <td>4</td>\n",
       "    </tr>\n",
       "    <tr>\n",
       "      <th>member</th>\n",
       "      <td>41.7810</td>\n",
       "      <td>-87.5761</td>\n",
       "      <td>2020-04-01</td>\n",
       "      <td>30</td>\n",
       "    </tr>\n",
       "    <tr>\n",
       "      <th>900 W Harrison St</th>\n",
       "      <th>casual</th>\n",
       "      <td>41.8748</td>\n",
       "      <td>-87.6498</td>\n",
       "      <td>2020-04-01</td>\n",
       "      <td>26</td>\n",
       "    </tr>\n",
       "  </tbody>\n",
       "</table>\n",
       "</div>"
      ],
      "text/plain": [
       "                            station_lat  station_lng         Ym  count\n",
       "station_name        member                                            \n",
       "2112 W Peterson Ave casual      41.9912     -87.6836 2020-04-01     13\n",
       "                    member      41.9912     -87.6836 2020-04-01     37\n",
       "63rd St Beach       casual      41.7810     -87.5761 2020-04-01      4\n",
       "                    member      41.7810     -87.5761 2020-04-01     30\n",
       "900 W Harrison St   casual      41.8748     -87.6498 2020-04-01     26"
      ]
     },
     "execution_count": 6,
     "metadata": {},
     "output_type": "execute_result"
    }
   ],
   "source": [
    "print (dfstations_end_ride_count_master.shape)\n",
    "dfstations_end_ride_count_master.head()"
   ]
  },
  {
   "cell_type": "code",
   "execution_count": 7,
   "id": "09fc84cf-1ed7-47fe-a092-a3feb1cc8ffe",
   "metadata": {},
   "outputs": [],
   "source": [
    "dfstations_start_ride_count_master['start_end']='start'\n",
    "dfstations_end_ride_count_master['start_end']='end'"
   ]
  },
  {
   "cell_type": "code",
   "execution_count": 8,
   "id": "fbf37794-3d06-4147-84f4-f115deb4c89a",
   "metadata": {},
   "outputs": [],
   "source": [
    "# Concat the start and end stations\n",
    "dfstations_ride_count_master = pd.concat([dfstations_start_ride_count_master, dfstations_end_ride_count_master],axis=0)"
   ]
  },
  {
   "cell_type": "code",
   "execution_count": 9,
   "id": "2a1f3ea3-d791-4abb-bedc-62ca213d3bb9",
   "metadata": {},
   "outputs": [
    {
     "name": "stdout",
     "output_type": "stream",
     "text": [
      "(81199, 5)\n"
     ]
    }
   ],
   "source": [
    "print (dfstations_ride_count_master.shape)"
   ]
  },
  {
   "cell_type": "code",
   "execution_count": 10,
   "id": "88026a5c-31cc-4b74-86ea-2657b08ee9c3",
   "metadata": {},
   "outputs": [],
   "source": [
    "dfstations_ride_count_master.to_csv('dfstations_ride_count_master.csv')"
   ]
  },
  {
   "cell_type": "markdown",
   "id": "7630f798-89b1-47d0-a897-9dd2eaeda804",
   "metadata": {},
   "source": [
    "The data is uploaded to Tableau. This is the link to the dashboard.\n",
    "https://public.tableau.com/views/CyclisticTripCountsInterativeMap/Dashboard1?:language=en-US&:display_count=n&:origin=viz_share_link"
   ]
  },
  {
   "cell_type": "markdown",
   "id": "05e13e4b-9a54-4142-aedf-0a9f228e777f",
   "metadata": {},
   "source": [
    "![Tableau_map.png](Figures/Tableau_map.png)"
   ]
  },
  {
   "cell_type": "code",
   "execution_count": null,
   "id": "867234e6-b3eb-4bc9-a63c-a134de18dfe2",
   "metadata": {},
   "outputs": [],
   "source": []
  }
 ],
 "metadata": {
  "kernelspec": {
   "display_name": "cyclistic_kernel",
   "language": "python",
   "name": "cyclistic_kernel"
  },
  "language_info": {
   "codemirror_mode": {
    "name": "ipython",
    "version": 3
   },
   "file_extension": ".py",
   "mimetype": "text/x-python",
   "name": "python",
   "nbconvert_exporter": "python",
   "pygments_lexer": "ipython3",
   "version": "3.9.13"
  }
 },
 "nbformat": 4,
 "nbformat_minor": 5
}
