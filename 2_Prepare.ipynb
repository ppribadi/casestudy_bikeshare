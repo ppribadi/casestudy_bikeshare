{
 "cells": [
  {
   "cell_type": "markdown",
   "id": "63144278-9e9a-42e8-9057-6272126c2162",
   "metadata": {},
   "source": [
    "# STAGE 2: PREPARE\n",
    "\n",
    "- Where is your data located?\n",
    "- How is the data organized?\n",
    "- Are there issues with bias or credibility in this data? Does your data ROCCC?\n",
    "- How are you addressing licensing, privacy, security, and accessibility?\n",
    "- How did you verify the data’s integrity?\n",
    "- How does it help you answer your question?\n",
    "- Are there any problems with the data?\n",
    "\n",
    "## Key tasks\n",
    "- The prepare phase ensures that you have all of the data you need for your analysis and that you have credible, useful data.\n",
    "- Collect data and store it appropriately\n",
    "- Identify how it’s organized\n",
    "- Sort and filter the data\n",
    "- Determine the credibility of the data!"
   ]
  },
  {
   "cell_type": "code",
   "execution_count": null,
   "id": "2c79f3b8-28f3-412f-908b-81fb6beab88d",
   "metadata": {},
   "outputs": [],
   "source": []
  },
  {
   "cell_type": "markdown",
   "id": "02ca2409-1753-471d-b1a7-2335a9c579cd",
   "metadata": {},
   "source": [
    "## ROCCC\n",
    "- Reliable\n",
    "- Original\n",
    "- Comprehensive\n",
    "- Current\n",
    "- Cited\n",
    "\n",
    "### The Data\n",
    "- The data comes from divvy's own website. That means the data is internal data (primary data). This website link provides information and licensing of the data. The data is open sourced and for public use.\n",
    "https://ride.divvybikes.com/system-data\n",
    "\n",
    "### Metadata:\n",
    "Each trip is anonymized and includes:\n",
    "\n",
    "- Trip start day and time\n",
    "- Trip end day and time\n",
    "- Trip start station\n",
    "- Trip end station\n",
    "- Rider type (Member, Single Ride, and Day Pass)\n",
    "\n",
    "- The data has been processed to remove trips that are taken by staff as they service and inspect the system; and any trips that were below 60 seconds in length (potentially false starts or users trying to re-dock a bike to ensure it was secure).\n"
   ]
  },
  {
   "cell_type": "markdown",
   "id": "7743208e-e55b-45be-8e2d-6ff118723a6a",
   "metadata": {},
   "source": [
    "# Explore Data"
   ]
  },
  {
   "cell_type": "markdown",
   "id": "378b5c93-419d-42ce-b32b-68fa654daeea",
   "metadata": {},
   "source": [
    "### Data Source: \n",
    "- The data is provided in https://divvy-tripdata.s3.amazonaws.com/index.html\n",
    "- The data is monthly between April, 2020 August,2022.\n",
    "- The data before April 2020 are in collected in Quarterly segments. In this analysis, we will not include them."
   ]
  },
  {
   "cell_type": "markdown",
   "id": "80d431ab-27b6-460d-b300-99f0238781aa",
   "metadata": {},
   "source": [
    "### Download Data"
   ]
  },
  {
   "cell_type": "code",
   "execution_count": 3,
   "id": "338878c4-c08c-4997-a1b3-8ad0a9ae1d15",
   "metadata": {},
   "outputs": [],
   "source": [
    "# Create some code to collect file names from the data source url\n",
    "import pandas as pd\n",
    "html_tables = pd.read_html('Index of bucket _divvy-tripdata_.html') \n",
    "# html table is returned as an array\n",
    "df_files = html_tables[0]"
   ]
  },
  {
   "cell_type": "code",
   "execution_count": 1,
   "id": "7acec662-7199-4936-b8e8-6a564e961018",
   "metadata": {},
   "outputs": [],
   "source": [
    "## create a csv file to store the relevant file names.\n",
    "## The file names start with 202 for data between April 2020 to Sep 2022"
   ]
  },
  {
   "cell_type": "markdown",
   "id": "4522bc13-5111-490d-be60-5d3659e18dc9",
   "metadata": {},
   "source": [
    "data filename list is stored in\n",
    "### **file_list_2020.csv**"
   ]
  },
  {
   "cell_type": "code",
   "execution_count": 5,
   "id": "b4de2a73-506d-418b-bde0-17ee425a7273",
   "metadata": {
    "tags": []
   },
   "outputs": [],
   "source": [
    "file_list = df_files['Name']\n",
    "file_list_2020 = [f for f in file_list if f.startswith('202')]\n",
    "file_list_2020_csv = [f.split('.')[0]+'.csv' for f in file_list if f.startswith('202')]"
   ]
  },
  {
   "cell_type": "markdown",
   "id": "241d7648-4241-46ff-b94e-5de63fceec90",
   "metadata": {
    "tags": []
   },
   "source": [
    "### Download the zip files to subfolder \"./Data\"\n",
    "Since the data files are zipped files, they will be unzipped to \"./Data/csv\" after the download is complete."
   ]
  },
  {
   "cell_type": "code",
   "execution_count": 4,
   "id": "da9e1ffd-69f6-4efc-a55d-490e1671b7bb",
   "metadata": {
    "tags": []
   },
   "outputs": [
    {
     "name": "stdout",
     "output_type": "stream",
     "text": [
      "downloaded 29 files\n"
     ]
    }
   ],
   "source": [
    "# Download to Data folder\n",
    "#https://divvy-tripdata.s3.amazonaws.com/202005-divvy-tripdata.zip\n",
    "count = 0\n",
    "for f in file_list_2020:\n",
    "    url = \"https://divvy-tripdata.s3.amazonaws.com/\"+f\n",
    "    #print (url)\n",
    "    response = wget.download(url, \"Data/\"+f)\n",
    "    count += 1\n",
    "print (\"downloaded\",count,\"files\")"
   ]
  },
  {
   "cell_type": "code",
   "execution_count": 7,
   "id": "1095c17a-1be3-40f6-9cf1-cb7b4b147bc0",
   "metadata": {},
   "outputs": [],
   "source": [
    "# write out the list of files to keep a copy in local drive\n",
    "with open('file_list_2020.csv', 'w') as fw:\n",
    "    \n",
    "    for item in file_list_2020_csv:\n",
    "        # write each item on a new line\n",
    "        fw.write(\"%s\\n\" % item)\n",
    "fw.close()"
   ]
  }
 ],
 "metadata": {
  "kernelspec": {
   "display_name": "Python 3 (ipykernel)",
   "language": "python",
   "name": "python3"
  },
  "language_info": {
   "codemirror_mode": {
    "name": "ipython",
    "version": 3
   },
   "file_extension": ".py",
   "mimetype": "text/x-python",
   "name": "python",
   "nbconvert_exporter": "python",
   "pygments_lexer": "ipython3",
   "version": "3.9.13"
  }
 },
 "nbformat": 4,
 "nbformat_minor": 5
}
